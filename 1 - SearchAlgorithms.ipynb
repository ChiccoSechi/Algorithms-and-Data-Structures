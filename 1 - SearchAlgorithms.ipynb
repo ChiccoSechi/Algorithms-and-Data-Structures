{
 "cells": [
  {
   "cell_type": "markdown",
   "metadata": {},
   "source": [
    "# Search Algorithms  \n",
    "\n",
    "Welcome to this Jupyter Notebook on Searching Algorithms! This notebook is designed to provide a thorough introduction to various searching algorithms, which are essential techniques in computer science for finding specific elements within data structures. Mastering searching algorithms is crucial for optimizing performance in many applications, including databases, web search engines, and more.\n",
    "\n",
    "### What Are Searching Algorithms?\n",
    "\n",
    "Searching algorithms are methods used to locate specific elements or values within a data structure, such as an array, linked list, or tree. Different searching algorithms are suited to different types of data structures and use cases, offering various trade-offs in terms of speed and efficiency.\n",
    "\n",
    "### Key Concepts\n",
    "\n",
    "In this notebook, we will explore the following key searching algorithms:\n",
    "\n",
    "1. **Linear Search**: Checks each element sequentially until the target is found or the list ends. Simple but can be slow for large datasets.\n",
    "\n",
    "2. **Binary Search**: Efficiently searches a sorted array by repeatedly dividing the search range in half. It narrows down the search to quickly locate the target.\n",
    "\n",
    "3. **Jump Search**: Jumps ahead by fixed steps in a sorted array and performs a linear search within the block where the target might be. Balances linear and binary search.\n",
    "\n",
    "4. **Interpolation Search**: Estimates the target's position based on its value relative to the array’s range. More efficient for uniformly distributed data.\n",
    "\n",
    "5. **Exponential Search**: Searches by expanding intervals exponentially and then applies binary search within the identified range. Useful for unbounded lists.\n",
    "\n",
    "6. **Fibonacci Search**: Uses Fibonacci numbers to divide the array and search for the target. An alternative to binary search with unique partitioning.\n",
    "\n",
    "### Learning Objectives\n",
    "\n",
    "By the end of this notebook, you will:\n",
    "- Understand the basic concepts and operations of each searching algorithm.\n",
    "- Learn how to implement these searching algorithms in Python."
   ]
  },
  {
   "cell_type": "markdown",
   "metadata": {},
   "source": [
    "In the following cells, we are creating two arrays, one is sorted and one is not. \n",
    "Is it possible to modify the array length, the max value and the min value.\n",
    "From now on, we are using this two arrays for all the algorithms."
   ]
  },
  {
   "cell_type": "code",
   "execution_count": null,
   "metadata": {},
   "outputs": [],
   "source": [
    "import random as rand\n",
    "\n",
    "len_array = 10\n",
    "min_value = 0\n",
    "max_value = 50\n",
    "\n",
    "array = []\n",
    "\n",
    "for index in range(len_array):\n",
    "    array.append(rand.randint(min_value, max_value))\n",
    "\n",
    "print(array)"
   ]
  },
  {
   "cell_type": "code",
   "execution_count": null,
   "metadata": {},
   "outputs": [],
   "source": [
    "len_array = 10\n",
    "min_value = 0\n",
    "max_value = 50\n",
    "\n",
    "array_sorted = []\n",
    "\n",
    "for index in range(len_array):\n",
    "    array_sorted.append(rand.randint(min_value, max_value))\n",
    "\n",
    "array_sorted.sort()\n",
    "\n",
    "print(array_sorted)"
   ]
  },
  {
   "cell_type": "markdown",
   "metadata": {},
   "source": [
    "## Linear Search\n",
    "This algorithm examines each element in the array sequentially until it finds the desired element or reaches the end of the array.\n",
    "Gives as output the index (or indexes) where the element is located."
   ]
  },
  {
   "cell_type": "markdown",
   "metadata": {},
   "source": [
    "This version gives only the first index where the element was found"
   ]
  },
  {
   "cell_type": "code",
   "execution_count": 23,
   "metadata": {},
   "outputs": [],
   "source": [
    "def linear_search(array: list[int], element: int) -> int:\n",
    "    # Iterate through each index 'i' of the 'array', from 0 to len(array).\n",
    "    for index in range(len(array)):\n",
    "        # Check if the current element in the array matches the 'element' we are searching for.\n",
    "        if element == array[index]:\n",
    "            # If a match is found, return the current index 'i'.\n",
    "            return index\n",
    "    # If the loop completes without finding the 'element', return -1 to indicate it was not found.\n",
    "    return -1\n",
    "    "
   ]
  },
  {
   "cell_type": "markdown",
   "metadata": {},
   "source": [
    "Execution of the linear search algorithm with the output control:"
   ]
  },
  {
   "cell_type": "code",
   "execution_count": null,
   "metadata": {},
   "outputs": [],
   "source": [
    "element = int(input())\n",
    "\n",
    "print(\"The element to look for is:\", element)\n",
    "\n",
    "result = linear_search(array, element)\n",
    "\n",
    "if result == -1:\n",
    "    print(\"Element not found\")\n",
    "else:\n",
    "    print(\"Element found at the index:\", result)"
   ]
  },
  {
   "cell_type": "markdown",
   "metadata": {},
   "source": [
    "This version gives all the indexes where the element was found."
   ]
  },
  {
   "cell_type": "code",
   "execution_count": 7,
   "metadata": {},
   "outputs": [],
   "source": [
    "def linear_search_indexes(array: list[int], element: int) -> list[int]:\n",
    "    # Create a list of indexes for the output.\n",
    "    indexes = []\n",
    "    # Iterate through each index 'i' of the 'array', from 0 to len(array).\n",
    "    for index in range(len(array)):\n",
    "        # Check if the current element in the array matches the 'element' we are searching for.\n",
    "        if element == array[index]:\n",
    "            # If a match is found, add the current index 'i' to the list of indexes.\n",
    "            indexes.append(index)\n",
    "    # When the loop completes, return the list of indexes.\n",
    "    return indexes"
   ]
  },
  {
   "cell_type": "markdown",
   "metadata": {},
   "source": [
    "Execution of the new version:"
   ]
  },
  {
   "cell_type": "code",
   "execution_count": null,
   "metadata": {},
   "outputs": [],
   "source": [
    "print(\"The element to look for is:\", element)\n",
    "\n",
    "result = linear_search_indexes(array, element)\n",
    "\n",
    "if len(result) == 0:\n",
    "    print(\"Element not found\")\n",
    "else:\n",
    "    print(\"Element found at the indexes:\", result)"
   ]
  },
  {
   "cell_type": "markdown",
   "metadata": {},
   "source": [
    "## Binary Search\n",
    "Binary Search is an efficient algorithm for finding an element in a sorted array. It works by repeatedly dividing the search interval in half. Initially, it checks the middle element of the array. If the middle element matches the target value, the search is complete. If the target value is smaller, the search continues in the lower half of the array, and if it is larger, in the upper half. This process continues until the target value is found or the interval is empty.\n",
    "\n",
    "The algorithm outputs the index of the target element if it is found, otherwise it indicates that the element is not present in the array.\n",
    "\n",
    "Binary Search only works with arrays that are sorted in ascending or descending order. There are two main versions of Binary Search: iterative and recursive. The **iterative version** uses a loop to divide the array and adjust the search interval. In contrast, the **recursive version** calls itself with a reduced interval until the base case is met, either finding the element or exhausting the search space. Both versions have the same time complexity of O(log n), but the iterative version generally uses less memory, as it doesn't involve multiple recursive calls."
   ]
  },
  {
   "cell_type": "code",
   "execution_count": 9,
   "metadata": {},
   "outputs": [],
   "source": [
    "def recursive_binary_search(array: list[int], start: int, end: int, element: int) -> int:\n",
    "    # Check if the start index exceeds the end index, indicating the element is not present in the array.\n",
    "    # Base case:\n",
    "    if start > end:\n",
    "        return -1\n",
    "    # Calculate the middle index of the current search interval.\n",
    "    mid = (start + end) // 2\n",
    "    # Check if the element at the middle index matches the 'element' we are searching for.\n",
    "    if element == array[mid]:\n",
    "        # If a match is found, return the current middle index 'mid'.\n",
    "        return mid\n",
    "    # If the target element is greater than the middle element, search in the right half of the array.\n",
    "    elif element > array[mid]:\n",
    "        return recursive_binary_search(array, mid + 1, end, element)\n",
    "    # If the target element is smaller than the middle element, search in the left half of the array.\n",
    "    else:\n",
    "        return recursive_binary_search(array, start, mid - 1, element)\n"
   ]
  },
  {
   "cell_type": "code",
   "execution_count": 10,
   "metadata": {},
   "outputs": [],
   "source": [
    "def iterative_binary_search(array: list[int], element: int) -> int:\n",
    "    # Initialize the start and end indixes for the search.\n",
    "    start = 0\n",
    "    end = len(array) - 1\n",
    "    # Loop until the start index exceeds the end index.\n",
    "    while start <= end:\n",
    "        # Calculate the middle index of the current search interval.\n",
    "        mid = (start + end) // 2\n",
    "        # Check if the middle element matches the target 'element'.\n",
    "        if array[mid] == element:\n",
    "            # If a match is found, return the current middle index 'mid'.\n",
    "            return mid\n",
    "        # If the middle element is less than the target 'element',\n",
    "        # adjust the start index to search in the right half.\n",
    "        elif array[mid] < element: \n",
    "            start = mid + 1\n",
    "        # If the middle element is greater than the target 'element',\n",
    "        # adjust the end index to search in the left half.\n",
    "        else:\n",
    "            end = mid - 1\n",
    "    # If the element is not found, return -1 to indicate it is not present in the array.\n",
    "    return -1\n"
   ]
  },
  {
   "cell_type": "markdown",
   "metadata": {},
   "source": [
    "Execution of the recursive binary search algorithm with the output control:"
   ]
  },
  {
   "cell_type": "code",
   "execution_count": null,
   "metadata": {},
   "outputs": [],
   "source": [
    "element = int(input())\n",
    "\n",
    "print(\"The element to look for is:\", element)\n",
    "\n",
    "result = recursive_binary_search(array_sorted, 0, len(array_sorted) - 1, element)\n",
    "\n",
    "if result == -1:\n",
    "    print(\"Element not found\")\n",
    "else:\n",
    "    print(\"Element found at the index:\", result)"
   ]
  },
  {
   "cell_type": "markdown",
   "metadata": {},
   "source": [
    "Execution of the iterative binary search algorithm with the output control:"
   ]
  },
  {
   "cell_type": "code",
   "execution_count": null,
   "metadata": {},
   "outputs": [],
   "source": [
    "element = int(input())\n",
    "\n",
    "print(\"The element to look for is:\", element)\n",
    "\n",
    "result = iterative_binary_search(array_sorted, element)\n",
    "\n",
    "if result == -1:\n",
    "    print(\"Element not found\")\n",
    "else:\n",
    "    print(\"Element found at the index:\", result)"
   ]
  },
  {
   "cell_type": "markdown",
   "metadata": {},
   "source": [
    "## Jump Search\n",
    "Jump Search is an efficient algorithm designed to search for an element in a sorted array by jumping ahead a fixed number of steps rather than checking each element sequentially. It combines elements of linear search and binary search. The algorithm works by jumping ahead in the array in fixed-size blocks, then performing a linear search within the block where the target element might be located.\n",
    "\n",
    "To perform a Jump Search, you first determine a jump size, typically the square root of the array's length (√n). You then jump ahead by this size until you find a block where the target element could be present. After locating the appropriate block, you perform a linear search within that block to find the exact position of the target element.\n",
    "\n",
    "Jump Search requires that the array is sorted, as it relies on the ordered nature of the data to skip ahead efficiently. It is a good compromise between the simplicity of linear search and the efficiency of binary search. The algorithm outputs the index of the target element if it is found or indicates that the element is not present if it is not found in the array."
   ]
  },
  {
   "cell_type": "code",
   "execution_count": 13,
   "metadata": {},
   "outputs": [],
   "source": [
    "import math\n",
    "\n",
    "def jump_search(array: list[int], element: int) -> int:\n",
    "    # Calculate the jump size as the square root of the length of the array.\n",
    "    step = int(math.sqrt(len(array)))\n",
    "    # Initialize the variable 'prev' to keep track of the index of the last block checked.\n",
    "    prev = 0\n",
    "\n",
    "    # Continue jumping blocks while the element at the end index of the current block is less than the target element.\n",
    "    while array[min(step, len(array)) - 1] < element:\n",
    "        # Update 'prev' to the start of the current block.\n",
    "        prev = step\n",
    "        # Increase 'step' to move to the next block.\n",
    "        step += int(math.sqrt(len(array)))\n",
    "        # If 'prev' exceeds the length of the array, the element is not present, so return None.\n",
    "        if prev >= len(array):\n",
    "            return -1\n",
    "\n",
    "    # Perform a linear search within the current block to find the target element.\n",
    "    for index in range(prev, min(step, len(array))):\n",
    "        if array[index] == element:\n",
    "            # If the element is found, return the index of the element.\n",
    "            return index\n",
    "\n",
    "    # If the element is not found in the current block, return None.\n",
    "    return -1\n"
   ]
  },
  {
   "cell_type": "markdown",
   "metadata": {},
   "source": [
    "Execution of the jump search algorithm with the output control:"
   ]
  },
  {
   "cell_type": "code",
   "execution_count": null,
   "metadata": {},
   "outputs": [],
   "source": [
    "element = int(input())\n",
    "\n",
    "print(\"The element to look for is:\", element)\n",
    "\n",
    "result = jump_search(array_sorted, element)\n",
    "\n",
    "if result == -1:\n",
    "    print(\"Element not found\")\n",
    "else:\n",
    "    print(\"Element found at the index:\", result)"
   ]
  },
  {
   "cell_type": "markdown",
   "metadata": {},
   "source": [
    "## Interpolation Search\n",
    "Interpolation Search is an efficient algorithm for finding an element in a sorted array, particularly when the data is uniformly distributed. Unlike Binary Search, which always divides the array into two halves, Interpolation Search estimates the position of the target element based on the values of the elements in the array. It uses the formula to compute the probable position of the target element by interpolating its value within the range of the current search interval.\n",
    "\n",
    "The algorithm works by calculating an estimated position using the formula:\n",
    "\n",
    "$$\n",
    "\\text{position} = \\text{low} + \\left(\\frac{(\\text{target} - \\text{array[low]}) \\times (\\text{high} - \\text{low})}{\\text{array[high]} - \\text{array[low]}}\\right)\n",
    "$$\n",
    "\n",
    "where `low` and `high` are the current bounds of the search interval. If the element at this estimated position matches the target, the search is complete. If the target value is less than the value at the estimated position, the search continues in the lower half, otherwise in the upper half.\n",
    "\n",
    "Interpolation Search requires that the array is sorted and uniformly distributed to work efficiently. When the data is not uniformly distributed, the performance can degrade to linear search. The algorithm outputs the index of the target element if it is found or indicates that the element is not present if it is absent from the array.\n"
   ]
  },
  {
   "cell_type": "code",
   "execution_count": 15,
   "metadata": {},
   "outputs": [],
   "source": [
    "def interpolation_search(array: list[int], element: int) -> int:\n",
    "    start = 0\n",
    "    end = len(array) - 1\n",
    "    \n",
    "    while start <= end and element >= array[start] and element <= array[end]:\n",
    "        # Calcola l'indice di interpolazione\n",
    "        position = start + ((element - array[start]) * (end - start) // (array[end] - array[start]))\n",
    "        \n",
    "        # Verifica se l'elemento in pos è quello cercato\n",
    "        if array[position] == element:\n",
    "            return position\n",
    "        # Se l'elemento cercato è maggiore, cerca nella parte destra\n",
    "        elif array[position] < element:\n",
    "            start = position + 1\n",
    "        # Se l'elemento cercato è minore, cerca nella parte sinistra\n",
    "        else:\n",
    "            end = position - 1\n",
    "    \n",
    "    # Elemento non trovato\n",
    "    return -1"
   ]
  },
  {
   "cell_type": "markdown",
   "metadata": {},
   "source": [
    "Execution of the interpolation search algorithm with the output control:"
   ]
  },
  {
   "cell_type": "code",
   "execution_count": null,
   "metadata": {},
   "outputs": [],
   "source": [
    "element = int(input())\n",
    "\n",
    "print(\"The element to look for is:\", element)\n",
    "\n",
    "result = interpolation_search(array_sorted, element)\n",
    "\n",
    "if result == -1:\n",
    "    print(\"Element not found\")\n",
    "else:\n",
    "    print(\"Element found at the index:\", result)"
   ]
  },
  {
   "cell_type": "markdown",
   "metadata": {},
   "source": [
    "## Exponential Search\n",
    "Exponential Search is an efficient algorithm used for finding an element in a sorted array. It combines elements of binary search with a preliminary step that identifies the range in which the target element may be found. The algorithm works by first finding a range where the target element could be located by exponentially increasing the index, then applying a binary search within that identified range.\n",
    "\n",
    "The process consists of two main steps:\n",
    "1. **Exponential Range Finding:** Start with the first element and repeatedly double the index (i.e., 1, 2, 4, 8, ...) until you either find an element greater than or equal to the target or reach the end of the array. This helps in quickly locating a range where the target might be.\n",
    "2. **Binary Search:** Once the range is identified, typically from the previous index to the current index, perform a binary search within that range to find the exact position of the target element.\n",
    "\n",
    "Exponential Search requires that the array is sorted to function correctly. It is particularly useful when the size of the array is unknown, as it efficiently locates the range where the binary search should be applied. The algorithm outputs the index of the target element if it is found, or indicates that the element is not present if it is absent from the array."
   ]
  },
  {
   "cell_type": "code",
   "execution_count": 17,
   "metadata": {},
   "outputs": [],
   "source": [
    "def exponential_search(array: list[int], element: int) -> int:\n",
    "    # Check if the element to be searched is at the first position.\n",
    "    if array[0] == element:\n",
    "        return 0\n",
    "    \n",
    "    # Initialize the index to 1 for exponential search.\n",
    "    index = 1\n",
    "    # Double the index until it exceeds the length of the array or finds a value greater than the target.\n",
    "    while index < len(array) and array[index] <= element:\n",
    "        index *= 2\n",
    "    \n",
    "    # Perform binary search in the range [i // 2, min(i, n - 1)].\n",
    "    start = index // 2\n",
    "    end = min(index, len(array) - 1)\n",
    "    \n",
    "    # Call binary_search to find the target element within the determined range.\n",
    "    return recursive_binary_search(array, start, end, element)\n"
   ]
  },
  {
   "cell_type": "markdown",
   "metadata": {},
   "source": [
    "Execution of the exponential search algorithm with the output control:"
   ]
  },
  {
   "cell_type": "code",
   "execution_count": null,
   "metadata": {},
   "outputs": [],
   "source": [
    "element = int(input())\n",
    "\n",
    "print(\"The element to look for is:\", element)\n",
    "\n",
    "result = exponential_search(array_sorted, element)\n",
    "\n",
    "if result == -1:\n",
    "    print(\"Element not found\")\n",
    "else:\n",
    "    print(\"Element found at the index:\", result)"
   ]
  },
  {
   "cell_type": "markdown",
   "metadata": {},
   "source": [
    "## Fibonacci Search\n",
    "Fibonacci Search is an efficient algorithm for finding an element in a sorted array, similar in concept to Binary Search but using Fibonacci numbers to divide the search space. It leverages the properties of Fibonacci numbers to reduce the range of the search efficiently, particularly useful when the cost of accessing elements increases with their index.\n",
    "\n",
    "The algorithm works as follows:\n",
    "1. **Fibonacci Number Setup:** Identify the smallest Fibonacci number greater than or equal to the size of the array. Let this number be `F(k)`, where `F(k)` is the k-th Fibonacci number.\n",
    "2. **Initial Positioning:** Set the initial offset to -1 and the two pointers `i` and `j` to `F(k-2)` and `F(k-1)`, respectively, where `F(k-2)` is the (k-2)-th Fibonacci number and `F(k-1)` is the (k-1)-th Fibonacci number.\n",
    "3. **Iterative Search:** While the Fibonacci number used (starting with `F(k-2)`) is greater than 1:\n",
    "   - Compare the element at index `min(offset + F(k-2), n-1)` with the target.\n",
    "   - If the element matches, the search is complete.\n",
    "   - If the target is less than the compared element, the search moves to the left, reducing `F(k)` to `F(k-2)`.\n",
    "   - If the target is greater, the offset is moved to `offset + F(k-2)`, and the search continues on the right, reducing `F(k)` to `F(k-1)` and `F(k-1)` to `F(k-2)`.\n",
    "4. **Final Check:** If the remaining element (at index `offset + 1`) matches the target, return the index; otherwise, indicate that the target is not found.\n",
    "\n",
    "Fibonacci Search requires that the array be sorted. It is especially effective for arrays where the size of each access is proportional to the index, such as in databases or certain types of file systems. The algorithm outputs the index of the target element if found or indicates the absence of the element otherwise."
   ]
  },
  {
   "cell_type": "code",
   "execution_count": 19,
   "metadata": {},
   "outputs": [],
   "source": [
    "def fibonacci_search(array: list[int], element: int) -> int:\n",
    "    # Define the initial Fibonacci numbers.\n",
    "    fibonacci_2 = 0  # (m-2)'th Fibonacci number\n",
    "    fibonacci_1 = 1  # (m-1)'th Fibonacci number\n",
    "    fibonacci = fibonacci_1 + fibonacci_2  # m'th Fibonacci number\n",
    "\n",
    "    # Calculate the smallest Fibonacci number greater than or equal to the length of the array.\n",
    "    while fibonacci < len(array):\n",
    "        fibonacci_2 = fibonacci_1\n",
    "        fibonacci_1 = fibonacci\n",
    "        fibonacci = fibonacci_1 + fibonacci_2\n",
    "\n",
    "    # Marks the eliminated range from the front.\n",
    "    offset = -1\n",
    "\n",
    "    # While there are elements to be inspected, compare `array[offset + fibonacci_2]` with `element`.\n",
    "    while fibonacci > 1:\n",
    "        # Check if `fibonacci_2` is a valid location.\n",
    "        index = min(offset + fibonacci_2, len(array) - 1)\n",
    "\n",
    "        # If the element is greater than the value at index `i`, cut the subarray from offset to i.\n",
    "        if array[index] < element:\n",
    "            fibonacci = fibonacci_1\n",
    "            fibonacci_1 = fibonacci_2\n",
    "            fibonacci_2 = fibonacci - fibonacci_1\n",
    "            offset = index\n",
    "        # If the element is less than the value at index `i`, cut the subarray after i+1.\n",
    "        elif array[index] > element:\n",
    "            fibonacci = fibonacci_2\n",
    "            fibonacci_1 -= fibonacci_2\n",
    "            fibonacci_2 = fibonacci - fibonacci_1\n",
    "        # If the element is found, return the index.\n",
    "        else:\n",
    "            return index\n",
    "\n",
    "    # Comparing the last element with `element`.\n",
    "    if fibonacci_1 and array[offset + 1] == element:\n",
    "        return offset + 1\n",
    "\n",
    "    # Element not found in the array.\n",
    "    return -1\n"
   ]
  },
  {
   "cell_type": "markdown",
   "metadata": {},
   "source": [
    "Execution of the fibonacci search algorithm with the output control:"
   ]
  },
  {
   "cell_type": "code",
   "execution_count": null,
   "metadata": {},
   "outputs": [],
   "source": [
    "element = int(input())\n",
    "\n",
    "print(\"The element to look for is:\", element)\n",
    "\n",
    "result = fibonacci_search(array_sorted, element)\n",
    "\n",
    "if result == -1:\n",
    "    print(\"Element not found\")\n",
    "else:\n",
    "    print(\"Element found at the index:\", result)"
   ]
  },
  {
   "cell_type": "markdown",
   "metadata": {},
   "source": [
    "## Time Complexity of Search Algorithms\n",
    "\n",
    "### Linear Search\n",
    "**Time Complexity: $O(n)$**\n",
    "\n",
    "In a linear search, the algorithm iterates through the array element by element, comparing each element with the search value. In the worst case, it has to check all the elements, so if there are $ n $ elements in the array, the execution time is proportional to $ n $. Therefore, the time complexity is $O(n)$.\n",
    "\n",
    "### Binary Search\n",
    "**Time Complexity: $O(\\log n)$**\n",
    "\n",
    "Binary search works on sorted arrays. The algorithm splits the array in half at each step and compares the middle element with the search value. If the search value is smaller, it focuses on the left half; otherwise, it focuses on the right half. This halving process continues until the element is found or the search range becomes empty. Since the array is halved each time, the number of operations required is logarithmic relative to the number of elements, resulting in a time complexity of $O(\\log n)$.\n",
    "\n",
    "### Jump Search\n",
    "**Time Complexity: $O(\\sqrt{n})$**\n",
    "\n",
    "Jump search is a variant of linear search but moves through the array in fixed jumps (typically the square root of the array size). If the target element is not found within the jumped block, a linear search is conducted within that block. Choosing the jump length as $\\sqrt{n}$ balances the jumps and linear searches, resulting in a time complexity of $O(\\sqrt{n})$.\n",
    "\n",
    "### Interpolation Search\n",
    "**Time Complexity: $O(\\log \\log n)$ on average, $O(n)$ in the worst case**\n",
    "\n",
    "Interpolation search is efficient on uniformly distributed sorted arrays. It uses an interpolation formula to estimate the position of the search value, rather than splitting the array in half as in binary search. In the average case, when elements are uniformly distributed, the complexity is $O(\\log \\log n)$. However, if the data is unevenly distributed or the search value is far from the central distribution, the complexity can degrade to $O(n)$.\n",
    "\n",
    "### Exponential Search\n",
    "**Time Complexity: $O(\\log n)$**\n",
    "\n",
    "Exponential search is effective for finding the range in which to search for an element in a sorted array. It starts from an index and doubles the index at each step until finding a value greater than or equal to the search value. Once the range is found, binary search is used. The number of steps needed to double is logarithmic, so the overall time complexity is $O(\\log n)$.\n",
    "\n",
    "### Fibonacci Search\n",
    "**Time Complexity: $O(\\log n)$**\n",
    "\n",
    "Fibonacci search is similar to binary search but uses Fibonacci numbers to determine the subarrays to examine. Fibonacci numbers are used to create partitions within the array, reducing the search range similarly to binary search. Since the array is divided logarithmically, the time complexity is $O(\\log n)$.\n",
    "\n"
   ]
  }
 ],
 "metadata": {
  "kernelspec": {
   "display_name": "Python 3",
   "language": "python",
   "name": "python3"
  },
  "language_info": {
   "codemirror_mode": {
    "name": "ipython",
    "version": 3
   },
   "file_extension": ".py",
   "mimetype": "text/x-python",
   "name": "python",
   "nbconvert_exporter": "python",
   "pygments_lexer": "ipython3",
   "version": "3.12.0"
  }
 },
 "nbformat": 4,
 "nbformat_minor": 2
}
